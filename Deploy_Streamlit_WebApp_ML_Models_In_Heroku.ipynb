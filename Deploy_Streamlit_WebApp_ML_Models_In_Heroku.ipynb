{
  "nbformat": 4,
  "nbformat_minor": 0,
  "metadata": {
    "colab": {
      "name": "Deploy Streamlit WebApp ML Models In Heroku.ipynb",
      "provenance": [],
      "private_outputs": true,
      "authorship_tag": "ABX9TyM5bAsEKgT+Jp9C62cAZduK",
      "include_colab_link": true
    },
    "kernelspec": {
      "name": "python3",
      "display_name": "Python 3"
    }
  },
  "cells": [
    {
      "cell_type": "markdown",
      "metadata": {
        "id": "view-in-github",
        "colab_type": "text"
      },
      "source": [
        "<a href=\"https://colab.research.google.com/github/kwabena55/Machine-Learning-Deployment/blob/Streamlit/Deploy_Streamlit_WebApp_ML_Models_In_Heroku.ipynb\" target=\"_parent\"><img src=\"https://colab.research.google.com/assets/colab-badge.svg\" alt=\"Open In Colab\"/></a>"
      ]
    },
    {
      "cell_type": "code",
      "metadata": {
        "id": "x7De25VDNRqI",
        "colab_type": "code",
        "colab": {}
      },
      "source": [
        ""
      ],
      "execution_count": null,
      "outputs": []
    }
  ]
}